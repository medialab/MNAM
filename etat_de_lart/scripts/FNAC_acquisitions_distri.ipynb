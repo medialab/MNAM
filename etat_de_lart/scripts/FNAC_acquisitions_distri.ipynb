{
 "cells": [
  {
   "cell_type": "code",
   "execution_count": 1,
   "metadata": {},
   "outputs": [
    {
     "data": {
      "text/html": [
       "<div>\n",
       "<style scoped>\n",
       "    .dataframe tbody tr th:only-of-type {\n",
       "        vertical-align: middle;\n",
       "    }\n",
       "\n",
       "    .dataframe tbody tr th {\n",
       "        vertical-align: top;\n",
       "    }\n",
       "\n",
       "    .dataframe thead th {\n",
       "        text-align: right;\n",
       "    }\n",
       "</style>\n",
       "<table border=\"1\" class=\"dataframe\">\n",
       "  <thead>\n",
       "    <tr style=\"text-align: right;\">\n",
       "      <th></th>\n",
       "      <th>ConstituentID</th>\n",
       "      <th>DateAcquired</th>\n",
       "    </tr>\n",
       "  </thead>\n",
       "  <tbody>\n",
       "    <tr>\n",
       "      <th>7</th>\n",
       "      <td>AMORIM Manuel</td>\n",
       "      <td>1981</td>\n",
       "    </tr>\n",
       "    <tr>\n",
       "      <th>8</th>\n",
       "      <td>BERTHOLIN</td>\n",
       "      <td>1981</td>\n",
       "    </tr>\n",
       "    <tr>\n",
       "      <th>9</th>\n",
       "      <td>CULINER Jill</td>\n",
       "      <td>1981</td>\n",
       "    </tr>\n",
       "    <tr>\n",
       "      <th>10</th>\n",
       "      <td>LARUS Eliane (TEXIER Eliane, dit)</td>\n",
       "      <td>1981</td>\n",
       "    </tr>\n",
       "    <tr>\n",
       "      <th>11</th>\n",
       "      <td>AUBERTIN Denise A (DEMALDENT Denise, dit)</td>\n",
       "      <td>1981</td>\n",
       "    </tr>\n",
       "  </tbody>\n",
       "</table>\n",
       "</div>"
      ],
      "text/plain": [
       "                                ConstituentID  DateAcquired\n",
       "7                               AMORIM Manuel          1981\n",
       "8                                   BERTHOLIN          1981\n",
       "9                                CULINER Jill          1981\n",
       "10          LARUS Eliane (TEXIER Eliane, dit)          1981\n",
       "11  AUBERTIN Denise A (DEMALDENT Denise, dit)          1981"
      ]
     },
     "execution_count": 1,
     "metadata": {},
     "output_type": "execute_result"
    }
   ],
   "source": [
    "import pandas as pd\n",
    "from collections import defaultdict\n",
    "from pprint import pprint\n",
    "\n",
    "data = pd.read_csv('uniq_artworks.csv')\n",
    "data = data[['authors_list', 'acquisition_year']]\n",
    "\n",
    "data = data[data.authors_list != 'Anonyme (sans précision)']\n",
    "data = data[data.authors_list != 'Anonyme (Ecole française)']\n",
    "\n",
    "data = data.rename(index=str, columns={'authors_list': 'ConstituentID', 'acquisition_year': 'DateAcquired'})\n",
    "data = data.dropna().drop_duplicates()\n",
    "data.head()"
   ]
  },
  {
   "cell_type": "code",
   "execution_count": 3,
   "metadata": {},
   "outputs": [],
   "source": [
    "viz = []\n",
    "\n",
    "for year in data['DateAcquired'].unique():\n",
    "    \n",
    "    # Get acquired this year \n",
    "    arts = data[data.DateAcquired == year]['ConstituentID'].unique()\n",
    "\n",
    "    # For each artists, get acquisition list\n",
    "    nPrev_count_idx = defaultdict(lambda: 0)\n",
    "    tot_artist = len(arts)\n",
    "    \n",
    "    for a in arts:\n",
    "        acquisitions = data[data.ConstituentID == a]\n",
    "        \n",
    "        # get number of previous acquisitions\n",
    "        nb_prev = len(acquisitions[acquisitions.DateAcquired < year]['DateAcquired'].unique())\n",
    "        \n",
    "        # Compute distribution for current year\n",
    "        nPrev_count_idx[nb_prev] += 1 / tot_artist\n",
    "    \n",
    "   \n",
    "    viz.append({'year': year, 'ditributions': dict(nPrev_count_idx)})\n",
    "\n",
    "viz = pd.DataFrame(viz)\n",
    "viz.to_csv('fnac_acquisition_distri.csv', index=False)"
   ]
  }
 ],
 "metadata": {
  "kernelspec": {
   "display_name": "Python 3",
   "language": "python",
   "name": "python3"
  },
  "language_info": {
   "codemirror_mode": {
    "name": "ipython",
    "version": 3
   },
   "file_extension": ".py",
   "mimetype": "text/x-python",
   "name": "python",
   "nbconvert_exporter": "python",
   "pygments_lexer": "ipython3",
   "version": "3.6.5"
  }
 },
 "nbformat": 4,
 "nbformat_minor": 2
}
