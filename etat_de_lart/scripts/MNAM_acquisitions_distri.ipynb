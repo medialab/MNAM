{
 "cells": [
  {
   "cell_type": "code",
   "execution_count": 1,
   "metadata": {},
   "outputs": [
    {
     "name": "stderr",
     "output_type": "stream",
     "text": [
      "/home/akira/anaconda3/lib/python3.6/site-packages/IPython/core/interactiveshell.py:2785: DtypeWarning: Columns (14) have mixed types. Specify dtype option on import or set low_memory=False.\n",
      "  interactivity=interactivity, compiler=compiler, result=result)\n"
     ]
    },
    {
     "data": {
      "text/html": [
       "<div>\n",
       "<style scoped>\n",
       "    .dataframe tbody tr th:only-of-type {\n",
       "        vertical-align: middle;\n",
       "    }\n",
       "\n",
       "    .dataframe tbody tr th {\n",
       "        vertical-align: top;\n",
       "    }\n",
       "\n",
       "    .dataframe thead th {\n",
       "        text-align: right;\n",
       "    }\n",
       "</style>\n",
       "<table border=\"1\" class=\"dataframe\">\n",
       "  <thead>\n",
       "    <tr style=\"text-align: right;\">\n",
       "      <th></th>\n",
       "      <th>ConstituentID</th>\n",
       "      <th>DateAcquired</th>\n",
       "    </tr>\n",
       "  </thead>\n",
       "  <tbody>\n",
       "    <tr>\n",
       "      <th>0</th>\n",
       "      <td>6660500</td>\n",
       "      <td>1949.0</td>\n",
       "    </tr>\n",
       "    <tr>\n",
       "      <th>2</th>\n",
       "      <td>9000000000087765</td>\n",
       "      <td>2011.0</td>\n",
       "    </tr>\n",
       "    <tr>\n",
       "      <th>6</th>\n",
       "      <td>9000000000087636</td>\n",
       "      <td>2003.0</td>\n",
       "    </tr>\n",
       "    <tr>\n",
       "      <th>8</th>\n",
       "      <td>150000000000763</td>\n",
       "      <td>2009.0</td>\n",
       "    </tr>\n",
       "    <tr>\n",
       "      <th>9</th>\n",
       "      <td>9000000000087680</td>\n",
       "      <td>2007.0</td>\n",
       "    </tr>\n",
       "  </tbody>\n",
       "</table>\n",
       "</div>"
      ],
      "text/plain": [
       "      ConstituentID  DateAcquired\n",
       "0           6660500        1949.0\n",
       "2  9000000000087765        2011.0\n",
       "6  9000000000087636        2003.0\n",
       "8   150000000000763        2009.0\n",
       "9  9000000000087680        2007.0"
      ]
     },
     "execution_count": 1,
     "metadata": {},
     "output_type": "execute_result"
    }
   ],
   "source": [
    "import pandas as pd\n",
    "from collections import defaultdict\n",
    "from pprint import pprint\n",
    "\n",
    "data = pd.read_csv('acquisitions.csv')\n",
    "data = data[['Id artists', 'Year acquisition']]\n",
    "data = data.rename(index=str, columns={'Id artists': 'ConstituentID', 'Year acquisition': 'DateAcquired'})\n",
    "data = data.dropna().drop_duplicates()\n",
    "data.head()"
   ]
  },
  {
   "cell_type": "code",
   "execution_count": 2,
   "metadata": {},
   "outputs": [],
   "source": [
    "viz = []\n",
    "\n",
    "for year in data['DateAcquired'].unique():\n",
    "    \n",
    "    # Get acquired this year \n",
    "    arts = data[data.DateAcquired == year]['ConstituentID'].unique()\n",
    "\n",
    "    # For each artists, get acquisition list\n",
    "    nPrev_count_idx = defaultdict(lambda: 0)\n",
    "    tot_artist = len(arts)\n",
    "    \n",
    "    for a in arts:\n",
    "        acquisitions = data[data.ConstituentID == a]\n",
    "        \n",
    "        # get number of previous acquisitions\n",
    "        nb_prev = len(acquisitions[acquisitions.DateAcquired < year]['DateAcquired'].unique())\n",
    "        \n",
    "        # Compute distribution for current year\n",
    "        nPrev_count_idx[nb_prev] += 1 / tot_artist\n",
    "    \n",
    "   \n",
    "    viz.append({'year': year, 'ditributions': dict(nPrev_count_idx)})\n",
    "\n",
    "viz = pd.DataFrame(viz)\n",
    "viz.to_csv('mnam_acquisition_distri.csv', index=False)"
   ]
  }
 ],
 "metadata": {
  "kernelspec": {
   "display_name": "Python 3",
   "language": "python",
   "name": "python3"
  },
  "language_info": {
   "codemirror_mode": {
    "name": "ipython",
    "version": 3
   },
   "file_extension": ".py",
   "mimetype": "text/x-python",
   "name": "python",
   "nbconvert_exporter": "python",
   "pygments_lexer": "ipython3",
   "version": "3.6.5"
  }
 },
 "nbformat": 4,
 "nbformat_minor": 2
}
