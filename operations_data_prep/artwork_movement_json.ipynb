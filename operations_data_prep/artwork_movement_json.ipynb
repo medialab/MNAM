{
 "cells": [
  {
   "cell_type": "code",
   "execution_count": 2,
   "metadata": {},
   "outputs": [],
   "source": [
    "import pandas as pd"
   ]
  },
  {
   "cell_type": "code",
   "execution_count": 3,
   "metadata": {
    "scrolled": true
   },
   "outputs": [],
   "source": [
    "df = pd.read_csv(\"artworks.csv\")"
   ]
  },
  {
   "cell_type": "code",
   "execution_count": 4,
   "metadata": {},
   "outputs": [
    {
     "data": {
      "text/plain": [
       "(110618, 30)"
      ]
     },
     "execution_count": 4,
     "metadata": {},
     "output_type": "execute_result"
    }
   ],
   "source": [
    "df.shape"
   ]
  },
  {
   "cell_type": "code",
   "execution_count": 5,
   "metadata": {
    "scrolled": true
   },
   "outputs": [
    {
     "data": {
      "text/html": [
       "<div>\n",
       "<style scoped>\n",
       "    .dataframe tbody tr th:only-of-type {\n",
       "        vertical-align: middle;\n",
       "    }\n",
       "\n",
       "    .dataframe tbody tr th {\n",
       "        vertical-align: top;\n",
       "    }\n",
       "\n",
       "    .dataframe thead th {\n",
       "        text-align: right;\n",
       "    }\n",
       "</style>\n",
       "<table border=\"1\" class=\"dataframe\">\n",
       "  <thead>\n",
       "    <tr style=\"text-align: right;\">\n",
       "      <th></th>\n",
       "      <th>_id</th>\n",
       "      <th>acquisition_year</th>\n",
       "      <th>acquisition_mode</th>\n",
       "      <th>date_creation</th>\n",
       "      <th>type</th>\n",
       "      <th>ensemble_id</th>\n",
       "      <th>domain</th>\n",
       "      <th>domain_leaf</th>\n",
       "      <th>domain_deno_for_grid</th>\n",
       "      <th>domain_description_mst</th>\n",
       "      <th>...</th>\n",
       "      <th>recap_description</th>\n",
       "      <th>all_realized_operations_history</th>\n",
       "      <th>hanging_history</th>\n",
       "      <th>hanging_history_m34</th>\n",
       "      <th>temporary_exhibitions_m30</th>\n",
       "      <th>exposition_out_of_folder</th>\n",
       "      <th>expositions</th>\n",
       "      <th>expositions_without_current</th>\n",
       "      <th>inscriptions</th>\n",
       "      <th>authors</th>\n",
       "    </tr>\n",
       "  </thead>\n",
       "  <tbody>\n",
       "    <tr>\n",
       "      <th>0</th>\n",
       "      <td>150000000022692</td>\n",
       "      <td>1949.0</td>\n",
       "      <td>Achat</td>\n",
       "      <td>[avant 1949]</td>\n",
       "      <td>individual</td>\n",
       "      <td>NaN</td>\n",
       "      <td>Peinture</td>\n",
       "      <td>Peinture</td>\n",
       "      <td>Peinture</td>\n",
       "      <td>Huile sur toile</td>\n",
       "      <td>...</td>\n",
       "      <td>NaN</td>\n",
       "      <td>2016/11/04 - 210I - Déplacement vers loc. inte...</td>\n",
       "      <td>NaN</td>\n",
       "      <td>Phantastische Kunst des XX Jahrhunderts : Bâle...</td>\n",
       "      <td>Phantastische Kunst des XX Jahrhunderts : Bâle...</td>\n",
       "      <td>Phantastische Kunst des XX Jahrhunderts : Bâle...</td>\n",
       "      <td>Phantastische Kunst des XX Jahrhunderts : Bâle...</td>\n",
       "      <td>Phantastische Kunst des XX Jahrhunderts : Bâle...</td>\n",
       "      <td>S.B.DR. : g. de chirico</td>\n",
       "      <td>6660500</td>\n",
       "    </tr>\n",
       "    <tr>\n",
       "      <th>1</th>\n",
       "      <td>150000001616310</td>\n",
       "      <td>NaN</td>\n",
       "      <td>Don</td>\n",
       "      <td>2003 - 2005</td>\n",
       "      <td>individual</td>\n",
       "      <td>NaN</td>\n",
       "      <td>Domaine non saisi</td>\n",
       "      <td>NaN</td>\n",
       "      <td>Domaine non saisi</td>\n",
       "      <td>NaN</td>\n",
       "      <td>...</td>\n",
       "      <td>NaN</td>\n",
       "      <td>NaN</td>\n",
       "      <td>NaN</td>\n",
       "      <td>NaN</td>\n",
       "      <td>NaN</td>\n",
       "      <td>NaN</td>\n",
       "      <td>NaN</td>\n",
       "      <td>NaN</td>\n",
       "      <td></td>\n",
       "      <td>NaN</td>\n",
       "    </tr>\n",
       "    <tr>\n",
       "      <th>2</th>\n",
       "      <td>150000000369068</td>\n",
       "      <td>2011.0</td>\n",
       "      <td>Achat</td>\n",
       "      <td>2004</td>\n",
       "      <td>individual</td>\n",
       "      <td>NaN</td>\n",
       "      <td>Objet/Design</td>\n",
       "      <td>Chaise</td>\n",
       "      <td>Objet/Design</td>\n",
       "      <td>Chaise|Chaise de récupération, béquille en aci...</td>\n",
       "      <td>...</td>\n",
       "      <td>NaN</td>\n",
       "      <td>2013/07/17 - 210I - Déplacement vers loc. inte...</td>\n",
       "      <td>2013/07/02 - 1N4 : Niveau 4 Centre|Dossier n° ...</td>\n",
       "      <td>Présentation des collections permanentes (coll...</td>\n",
       "      <td>NaN</td>\n",
       "      <td>NaN</td>\n",
       "      <td>NaN</td>\n",
       "      <td>Présentation des collections permanentes (coll...</td>\n",
       "      <td>NaN</td>\n",
       "      <td>9000000000087765</td>\n",
       "    </tr>\n",
       "    <tr>\n",
       "      <th>3</th>\n",
       "      <td>150000000369087</td>\n",
       "      <td>2011.0</td>\n",
       "      <td>Achat</td>\n",
       "      <td>2009 - 2010</td>\n",
       "      <td>individual</td>\n",
       "      <td>NaN</td>\n",
       "      <td>Objet/Design</td>\n",
       "      <td>Audio-visuel,informatique, comm. et repro.</td>\n",
       "      <td>Objet/Design</td>\n",
       "      <td>série de 4 clés USB|Clés en métal, technologie...</td>\n",
       "      <td>...</td>\n",
       "      <td>NaN</td>\n",
       "      <td>2013/07/12 - 210I - Déplacement vers loc. inte...</td>\n",
       "      <td>2013/07/02 - 1N4 : Niveau 4 Centre|Dossier n° ...</td>\n",
       "      <td>Présentation des collections permanentes (coll...</td>\n",
       "      <td>NaN</td>\n",
       "      <td>NaN</td>\n",
       "      <td>NaN</td>\n",
       "      <td>Présentation des collections permanentes (coll...</td>\n",
       "      <td>NaN</td>\n",
       "      <td>9000000000087765</td>\n",
       "    </tr>\n",
       "    <tr>\n",
       "      <th>4</th>\n",
       "      <td>150000000454622</td>\n",
       "      <td>2011.0</td>\n",
       "      <td>Don</td>\n",
       "      <td>2009</td>\n",
       "      <td>individual</td>\n",
       "      <td>NaN</td>\n",
       "      <td>Objet/Design</td>\n",
       "      <td>Objet/Design</td>\n",
       "      <td>Objet/Design</td>\n",
       "      <td>Matériel de récupération, hanse en métal, béton</td>\n",
       "      <td>...</td>\n",
       "      <td>NaN</td>\n",
       "      <td>2012/03/15 - 210I - Déplacement vers loc. inte...</td>\n",
       "      <td>NaN</td>\n",
       "      <td>NaN</td>\n",
       "      <td>NaN</td>\n",
       "      <td>NaN</td>\n",
       "      <td>NaN</td>\n",
       "      <td>NaN</td>\n",
       "      <td></td>\n",
       "      <td>9000000000087765</td>\n",
       "    </tr>\n",
       "  </tbody>\n",
       "</table>\n",
       "<p>5 rows × 30 columns</p>\n",
       "</div>"
      ],
      "text/plain": [
       "               _id  acquisition_year acquisition_mode date_creation  \\\n",
       "0  150000000022692            1949.0            Achat  [avant 1949]   \n",
       "1  150000001616310               NaN              Don   2003 - 2005   \n",
       "2  150000000369068            2011.0            Achat          2004   \n",
       "3  150000000369087            2011.0            Achat   2009 - 2010   \n",
       "4  150000000454622            2011.0              Don          2009   \n",
       "\n",
       "         type  ensemble_id             domain  \\\n",
       "0  individual          NaN           Peinture   \n",
       "1  individual          NaN  Domaine non saisi   \n",
       "2  individual          NaN       Objet/Design   \n",
       "3  individual          NaN       Objet/Design   \n",
       "4  individual          NaN       Objet/Design   \n",
       "\n",
       "                                  domain_leaf domain_deno_for_grid  \\\n",
       "0                                    Peinture             Peinture   \n",
       "1                                         NaN    Domaine non saisi   \n",
       "2                                      Chaise         Objet/Design   \n",
       "3  Audio-visuel,informatique, comm. et repro.         Objet/Design   \n",
       "4                                Objet/Design         Objet/Design   \n",
       "\n",
       "                              domain_description_mst        ...         \\\n",
       "0                                    Huile sur toile        ...          \n",
       "1                                                NaN        ...          \n",
       "2  Chaise|Chaise de récupération, béquille en aci...        ...          \n",
       "3  série de 4 clés USB|Clés en métal, technologie...        ...          \n",
       "4    Matériel de récupération, hanse en métal, béton        ...          \n",
       "\n",
       "   recap_description                    all_realized_operations_history  \\\n",
       "0                NaN  2016/11/04 - 210I - Déplacement vers loc. inte...   \n",
       "1                NaN                                                NaN   \n",
       "2                NaN  2013/07/17 - 210I - Déplacement vers loc. inte...   \n",
       "3                NaN  2013/07/12 - 210I - Déplacement vers loc. inte...   \n",
       "4                NaN  2012/03/15 - 210I - Déplacement vers loc. inte...   \n",
       "\n",
       "                                     hanging_history  \\\n",
       "0                                                NaN   \n",
       "1                                                NaN   \n",
       "2  2013/07/02 - 1N4 : Niveau 4 Centre|Dossier n° ...   \n",
       "3  2013/07/02 - 1N4 : Niveau 4 Centre|Dossier n° ...   \n",
       "4                                                NaN   \n",
       "\n",
       "                                 hanging_history_m34  \\\n",
       "0  Phantastische Kunst des XX Jahrhunderts : Bâle...   \n",
       "1                                                NaN   \n",
       "2  Présentation des collections permanentes (coll...   \n",
       "3  Présentation des collections permanentes (coll...   \n",
       "4                                                NaN   \n",
       "\n",
       "                           temporary_exhibitions_m30  \\\n",
       "0  Phantastische Kunst des XX Jahrhunderts : Bâle...   \n",
       "1                                                NaN   \n",
       "2                                                NaN   \n",
       "3                                                NaN   \n",
       "4                                                NaN   \n",
       "\n",
       "                            exposition_out_of_folder  \\\n",
       "0  Phantastische Kunst des XX Jahrhunderts : Bâle...   \n",
       "1                                                NaN   \n",
       "2                                                NaN   \n",
       "3                                                NaN   \n",
       "4                                                NaN   \n",
       "\n",
       "                                         expositions  \\\n",
       "0  Phantastische Kunst des XX Jahrhunderts : Bâle...   \n",
       "1                                                NaN   \n",
       "2                                                NaN   \n",
       "3                                                NaN   \n",
       "4                                                NaN   \n",
       "\n",
       "                         expositions_without_current             inscriptions  \\\n",
       "0  Phantastische Kunst des XX Jahrhunderts : Bâle...  S.B.DR. : g. de chirico   \n",
       "1                                                NaN                            \n",
       "2  Présentation des collections permanentes (coll...                      NaN   \n",
       "3  Présentation des collections permanentes (coll...                      NaN   \n",
       "4                                                NaN                            \n",
       "\n",
       "            authors  \n",
       "0           6660500  \n",
       "1               NaN  \n",
       "2  9000000000087765  \n",
       "3  9000000000087765  \n",
       "4  9000000000087765  \n",
       "\n",
       "[5 rows x 30 columns]"
      ]
     },
     "execution_count": 5,
     "metadata": {},
     "output_type": "execute_result"
    }
   ],
   "source": [
    "df.head()"
   ]
  },
  {
   "cell_type": "markdown",
   "metadata": {},
   "source": [
    "## remove html tags"
   ]
  },
  {
   "cell_type": "code",
   "execution_count": 6,
   "metadata": {},
   "outputs": [],
   "source": [
    "import re\n",
    "\n",
    "def get_list_from_html(field):\n",
    "    if(pd.isnull(field)):\n",
    "        return []\n",
    "    else:\n",
    "        regex_item = re.compile('<li>(.*?)<\\/li>', flags=re.S)\n",
    "        tab = regex_item.split(str(field))\n",
    "        new_tab = []\n",
    "        for item in tab:\n",
    "            if len(item) > 0 and 'ul>' not in item and item != '\\n':\n",
    "                new_tab.append(item)\n",
    "        return new_tab"
   ]
  },
  {
   "cell_type": "code",
   "execution_count": 7,
   "metadata": {
    "scrolled": false
   },
   "outputs": [],
   "source": [
    "# df[\"operation_list\"] = df[\"all_realized_operations_history\"].apply(get_list_from_html)"
   ]
  },
  {
   "cell_type": "code",
   "execution_count": 8,
   "metadata": {},
   "outputs": [],
   "source": [
    "df[\"operation_list\"] = df[\"all_realized_operations_history\"].apply(lambda x: str(x).split(\";sep;\"))"
   ]
  },
  {
   "cell_type": "markdown",
   "metadata": {},
   "source": [
    "## remove no code cases from operation list"
   ]
  },
  {
   "cell_type": "code",
   "execution_count": 9,
   "metadata": {},
   "outputs": [],
   "source": [
    "get_cleaned_list = lambda x : [i for i in x if len(i.split('-')) > 2]\n",
    "remove_invalid_date = lambda x : [i for i in x if (int(i.split('-')[0][:4])>1678 and int(i.split('-')[0][:4])<2018)]\n",
    "df[\"operation_list_clean\"] = df[\"operation_list\"].apply(get_cleaned_list).apply(remove_invalid_date)"
   ]
  },
  {
   "cell_type": "code",
   "execution_count": 10,
   "metadata": {},
   "outputs": [],
   "source": [
    "# get_operation_between= lambda x : [i for i in x if (int(i.split('-')[0][:4])>1997 and int(i.split('-')[0][:4])<2001)]\n",
    "# df[\"operation_list_1997_2000\"] = df[\"operation_list_clean\"].apply(get_operation_between)"
   ]
  },
  {
   "cell_type": "markdown",
   "metadata": {},
   "source": [
    "## filter operation after 2001 && with code_loc only"
   ]
  },
  {
   "cell_type": "code",
   "execution_count": 11,
   "metadata": {},
   "outputs": [],
   "source": [
    "code_loc = [\"210I\",\"211I\",\"212I\",\"213I\",\"214I\",\"216I\",\"220I\", \"221I\",\"241I\",\"260I\",\"261I\",\"262I\",\"299I\",\"730I\",\"750I\",\"760I\",\\\n",
    "           \"210E\",\"211E\",\"220E\",\"221E\",\"230E\",\"240E\",\"241E\",\"250E\",\"260E\",\"299E\",\"242E\", \"244E\",\"760E\"]"
   ]
  },
  {
   "cell_type": "code",
   "execution_count": 12,
   "metadata": {},
   "outputs": [],
   "source": [
    "# filter_operation = lambda x : [i for i in x if (int(i.split('-')[0][:4])>2000 and i.split(' - ')[1] in code_loc)]\n",
    "filter_operation = lambda x : [i for i in x if (int(i.split('-')[0][:4])>2000) ]\n",
    "df[\"operation_list_after_2001\"] = df[\"operation_list_clean\"].apply(filter_operation)"
   ]
  },
  {
   "cell_type": "markdown",
   "metadata": {},
   "source": [
    "# select column"
   ]
  },
  {
   "cell_type": "code",
   "execution_count": 13,
   "metadata": {},
   "outputs": [],
   "source": [
    "df_movement = df[[\"_id\", \"title_notice\", \"operation_list_after_2001\"]]"
   ]
  },
  {
   "cell_type": "code",
   "execution_count": 14,
   "metadata": {},
   "outputs": [
    {
     "data": {
      "text/plain": [
       "(110618, 3)"
      ]
     },
     "execution_count": 14,
     "metadata": {},
     "output_type": "execute_result"
    }
   ],
   "source": [
    "df_movement.shape"
   ]
  },
  {
   "cell_type": "code",
   "execution_count": 15,
   "metadata": {
    "scrolled": true
   },
   "outputs": [
    {
     "name": "stderr",
     "output_type": "stream",
     "text": [
      "/usr/local/lib/python3.6/dist-packages/ipykernel_launcher.py:1: SettingWithCopyWarning: \n",
      "A value is trying to be set on a copy of a slice from a DataFrame.\n",
      "Try using .loc[row_indexer,col_indexer] = value instead\n",
      "\n",
      "See the caveats in the documentation: http://pandas.pydata.org/pandas-docs/stable/indexing.html#indexing-view-versus-copy\n",
      "  \"\"\"Entry point for launching an IPython kernel.\n"
     ]
    }
   ],
   "source": [
    "df_movement[\"operation_times\"] = df_movement[\"operation_list_after_2001\"].apply(lambda x: len(x))"
   ]
  },
  {
   "cell_type": "code",
   "execution_count": 16,
   "metadata": {},
   "outputs": [],
   "source": [
    "df_movement = df_movement[df_movement.operation_times != 0]"
   ]
  },
  {
   "cell_type": "code",
   "execution_count": 17,
   "metadata": {},
   "outputs": [
    {
     "data": {
      "text/plain": [
       "(108081, 4)"
      ]
     },
     "execution_count": 17,
     "metadata": {},
     "output_type": "execute_result"
    }
   ],
   "source": [
    "df_movement.shape"
   ]
  },
  {
   "cell_type": "code",
   "execution_count": 18,
   "metadata": {},
   "outputs": [
    {
     "data": {
      "text/plain": [
       "528711"
      ]
     },
     "execution_count": 18,
     "metadata": {},
     "output_type": "execute_result"
    }
   ],
   "source": [
    "sum(df_movement[\"operation_times\"])"
   ]
  },
  {
   "cell_type": "markdown",
   "metadata": {},
   "source": [
    "## get opt field(date, code, opt_name, details), store into dict"
   ]
  },
  {
   "cell_type": "code",
   "execution_count": 29,
   "metadata": {},
   "outputs": [],
   "source": [
    "def format_date(date):\n",
    "    return date.replace(\"/00\", \"/01\")"
   ]
  },
  {
   "cell_type": "markdown",
   "metadata": {},
   "source": [
    "* Branche stockage : \n",
    "2AR\n",
    "2B\n",
    "2C\n",
    "2DE\n",
    "2F\n",
    "2L\n",
    "2M\n",
    "2N\n",
    "2P\n",
    "2S\n",
    "2V\n",
    "2TR\n",
    "* Branche ateliers : \n",
    "2EMB\n",
    "2ENC\n",
    "* Branche restauration : \n",
    "2R\n",
    "2NR\n",
    "2QUA\n",
    "* Branche photo : \n",
    "2PHO\n",
    "* Branche constats : \n",
    "2ALV \n",
    "2NALV\n",
    "2CON"
   ]
  },
  {
   "cell_type": "markdown",
   "metadata": {},
   "source": [
    "* Subbranch type storage : \n",
    "1B\n",
    "1D\n",
    "1E\n",
    "1F\n",
    "1I\n",
    "1J\n",
    "1K\n",
    "1L\n",
    "1M\n",
    "1N3\n",
    "1T\n",
    "6B\n",
    "* Subbranch type restoration :\n",
    "1LTR\n",
    "* Subbranch type photography / digitalization : \n",
    "1STUPHO\n",
    "1SAV\n",
    "1STUVID\n",
    "* Subbranch type studios : \n",
    "1A\n",
    "* Subbranch permanent exhibition spaces : \n",
    "1N4S\n",
    "1N4R\n",
    "1N4T\n",
    "1N4E\n",
    "1N4GALCONS\n",
    "1N4GALPRO\n",
    "1N5S\n",
    "1N5R\n",
    "1N5T\n",
    "1N5E\n",
    "* Subbranch temporary exhibition spaces :\n",
    "1N0\n",
    "1N1\n",
    "1N4GAG\n",
    "1N4GAL0\n",
    "1N4GALMUS\n",
    "1N6\n",
    "1PIAZZA\n",
    "1GALPHO\n",
    "1GRANDESALLE"
   ]
  },
  {
   "cell_type": "code",
   "execution_count": 30,
   "metadata": {},
   "outputs": [],
   "source": [
    "branches = {\"PN_stockage\": [\"2A\", \"2B\", \"2C\", \"2DE\", \"2F\", \"2L\", \"2M\", \"2N\", \"2P\", \"2S\", \"2V\", \"2TR\"],\\\n",
    "\"PN_ateliers\":[\"2EMB\", \"2ENC\"],\\\n",
    "\"PN_restauration\":[\"2R\", \"2NR\", \"2QUA\"],\\\n",
    "\"PN_photo\": [\"2PHO\"],\\\n",
    "\"PN_constats\": [\"2ALV\", \"2NALV\", \"2CON\"],\\\n",
    "\"CPINTER_storage\":[\"1B\", \"1D\", \"1E\", \"1F\", \"1I\", \"1J\", \"1K\", \"1L\", \"1M\", \"1N3\", \"1T\", \"6B\"],\\\n",
    "\"CPINTER_restoration\":[\"1LTR\"],\\\n",
    "\"CPINTER_photo\":[\"1STUPHO\", \"1SAV\", \"1STUVID\"],\\\n",
    "\"CPINTER_studio\":[\"1A\"],\\\n",
    "\"CPPUB_perm\": [\"1N4S\", \"1N4R\", \"1N4T\", \"1N4E\", \"1N4GALCONS\", \"1N4GALPRO\", \"1N5S\", \"1N5R\", \"1N5T\", \"1N5E\"],\\\n",
    "\"CPPUB_tempo\": [\"1N0\", \"1N1\", \"1N4GAG\", \"1N4GAL0\", \"1N4GALMUS\", \"1N6\", \"1PIAZZA\", \"1GALPHO\", \"1GRANDESALLE\"],\\\n",
    "}"
   ]
  },
  {
   "cell_type": "code",
   "execution_count": 31,
   "metadata": {},
   "outputs": [],
   "source": [
    "external_branch = [\"M20\",\"M22\",\"M25\",\"M29\",\"M32\",\"M36\",\"M99\"]\n",
    "deposit_branch = [\"M10\", \"M11\", \"M19\"]"
   ]
  },
  {
   "cell_type": "code",
   "execution_count": 32,
   "metadata": {},
   "outputs": [],
   "source": [
    "def dict_mapper(pattern, dict_branch = branches):\n",
    "    cand = []\n",
    "    for cat, pat in dict_branch.items():\n",
    "        if pattern in [pat_part[0:len(pattern)] for pat_part in pat]:\n",
    "            cand += [cat]\n",
    "    return cand\n",
    "\n",
    "def get_branch(text, dict_branch = branches):\n",
    "    branch_list = dict_mapper(text[0], dict_branch = dict_branch)\n",
    "    if len(text) < 2 or branch_list == []:\n",
    "        return \"unknown\"\n",
    "    else:\n",
    "        i = 1\n",
    "        while(len(branch_list) > 1):\n",
    "            i += 1\n",
    "            if i>len(text):\n",
    "                break\n",
    "            branch_list = dict_mapper(text[0:i],dict_branch = dict_branch)\n",
    "    if branch_list == []:\n",
    "        j = len(text)\n",
    "        while(len(branch_list) < 1):\n",
    "            if j<0:\n",
    "                return text\n",
    "            j -= 1\n",
    "            branch_list = dict_mapper(text[0:j],dict_branch = dict_branch)\n",
    "    return branch_list[0]"
   ]
  },
  {
   "cell_type": "code",
   "execution_count": 33,
   "metadata": {},
   "outputs": [],
   "source": [
    "def get_branch_field(opt):\n",
    "    if(opt.split(' - ')[1] in code_loc):\n",
    "        if(\"I\" in opt.split(\" - \")[1]):\n",
    "            return get_branch(opt.split(\" - \")[3])\n",
    "        else:\n",
    "            opt_detail = \"-\".join(opt.split(\" - \")[3:])\n",
    "            if(any(s in opt_detail for s in external_branch)):\n",
    "                return \"EXPO\"\n",
    "            elif(any(s in opt_detail for s in deposit_branch)):\n",
    "                return \"DEPOT\"\n",
    "            else:\n",
    "                return \"unknown\"\n",
    "    else:\n",
    "        return \"nonlocation\""
   ]
  },
  {
   "cell_type": "code",
   "execution_count": 34,
   "metadata": {},
   "outputs": [],
   "source": [
    "get_opt_field = lambda x : sorted([{\"date\": format_date(i.split(' - ')[0]), \"opt_code\":i.split(\" - \")[1],\\\n",
    "                             \"opt_name\": i.split(\" - \")[2], \"opt_branch\": get_branch_field(i),\\\n",
    "                            \"opt_detail\": \"-\".join(i.split(\" - \")[3:])}\\\n",
    "                            for i in x], key=lambda d: d['date'])"
   ]
  },
  {
   "cell_type": "code",
   "execution_count": 35,
   "metadata": {},
   "outputs": [],
   "source": [
    "def get_opt_prop(x):\n",
    "    return [{\"date\": format_date(i.split(' - ')[0]), \"opt_code\":i.split(\" - \")[1],\\\n",
    "             \"opt_name\": i.split(\" - \")[2], \"opt_branch\": get_branch_field(i),\\\n",
    "            \"opt_detail\": \"-\".join(i.split(\" - \")[3:])}\\\n",
    "            for i in x]"
   ]
  },
  {
   "cell_type": "code",
   "execution_count": 36,
   "metadata": {
    "scrolled": true
   },
   "outputs": [],
   "source": [
    "df_movement[\"opt_field\"] = df_movement[\"operation_list_after_2001\"].apply(get_opt_field)"
   ]
  },
  {
   "cell_type": "code",
   "execution_count": 37,
   "metadata": {},
   "outputs": [
    {
     "data": {
      "text/plain": [
       "['_id',\n",
       " 'title_notice',\n",
       " 'operation_list_after_2001',\n",
       " 'operation_times',\n",
       " 'opt_field']"
      ]
     },
     "execution_count": 37,
     "metadata": {},
     "output_type": "execute_result"
    }
   ],
   "source": [
    "list(df_movement)"
   ]
  },
  {
   "cell_type": "code",
   "execution_count": 38,
   "metadata": {
    "scrolled": true
   },
   "outputs": [],
   "source": [
    "df_movement=df_movement.drop([\"operation_times\",\"operation_list_after_2001\"], axis=1)"
   ]
  },
  {
   "cell_type": "code",
   "execution_count": 39,
   "metadata": {},
   "outputs": [],
   "source": [
    "df_movement.to_json(\"artwork_operations_with_branch_complete.json\", orient=\"records\")"
   ]
  },
  {
   "cell_type": "markdown",
   "metadata": {},
   "source": [
    "# clean date creation"
   ]
  },
  {
   "cell_type": "code",
   "execution_count": 5,
   "metadata": {},
   "outputs": [],
   "source": [
    "import re\n",
    "years_re = re.compile(r\"\\d{4}\")\n",
    "def clean_creation_date(creation_date):\n",
    "    years = years_re.findall(str(creation_date))\n",
    "    if len(years)>=1:\n",
    "        return int(min(years))\n",
    "    else:\n",
    "        return None\n",
    "\n",
    "df[\"date_creation\"] = df[\"date_creation\"].apply(clean_creation_date)"
   ]
  }
 ],
 "metadata": {
  "kernelspec": {
   "display_name": "Python 3",
   "language": "python",
   "name": "python3"
  },
  "language_info": {
   "codemirror_mode": {
    "name": "ipython",
    "version": 3
   },
   "file_extension": ".py",
   "mimetype": "text/x-python",
   "name": "python",
   "nbconvert_exporter": "python",
   "pygments_lexer": "ipython3",
   "version": "3.6.3"
  }
 },
 "nbformat": 4,
 "nbformat_minor": 2
}
